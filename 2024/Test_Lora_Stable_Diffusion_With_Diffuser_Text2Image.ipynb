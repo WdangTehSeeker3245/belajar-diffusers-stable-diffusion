{
  "cells": [
    {
      "cell_type": "markdown",
      "source": [
        "# Test Lora Stable Diffusion With Diffuser Text2Image\n",
        "\n",
        "## Note :\n",
        "This notebook is used for data scientific research purpose, any misuse will make community ML learner losing free gpu access. the industrial hardware resource will can't cope up with unintended newbie no coder demand please refrain yourself if system down sign or monetization of mass traffic greedy policy starting show up.\n",
        "\n",
        "please be wary in technological administration greedy and politics.\n",
        "\n",
        "and if you have more cash, feed them to get them on the path of charitable institutions.\n",
        "\n",
        "this is what i called counter politics to make more opensource prefered and free service increase it available or availability."
      ],
      "metadata": {
        "id": "SpjWonC5MwDE"
      }
    },
    {
      "cell_type": "code",
      "execution_count": null,
      "metadata": {
        "id": "cSxdLsTAJWWJ"
      },
      "outputs": [],
      "source": [
        "!pip install transformers torch huggingface_hub pyexiv2 peft"
      ]
    },
    {
      "cell_type": "code",
      "execution_count": null,
      "metadata": {
        "id": "BVonEI-5Ains"
      },
      "outputs": [],
      "source": [
        "!pip install git+https://github.com/huggingface/diffusers"
      ]
    },
    {
      "cell_type": "code",
      "execution_count": null,
      "metadata": {
        "id": "ZP-8d0vxJ5u4"
      },
      "outputs": [],
      "source": [
        "from diffusers import(\n",
        "    StableDiffusionPipeline,\n",
        "    DPMSolverMultistepScheduler,\n",
        "    AutoencoderKL,\n",
        ")\n",
        "import transformers\n",
        "import torch\n",
        "import matplotlib.pyplot as plt\n",
        "import numpy as np\n",
        "from PIL import Image\n",
        "from io import BytesIO\n",
        "from huggingface_hub import hf_hub_download,login\n",
        "import gc"
      ]
    },
    {
      "cell_type": "markdown",
      "metadata": {
        "id": "P_949C8HAinu"
      },
      "source": [
        "For Private Huggingface Model"
      ]
    },
    {
      "cell_type": "code",
      "execution_count": null,
      "metadata": {
        "id": "6bRx0cbwAinw"
      },
      "outputs": [],
      "source": [
        "# def read_specific_line(file_path, line_number):\n",
        "#     try:\n",
        "#         with open(file_path, 'r') as file:\n",
        "#             for current_line_number, line in enumerate(file, start=1):\n",
        "#                 if current_line_number == line_number:\n",
        "#                     return line.strip()\n",
        "#         return f\"Line {line_number} not found in the file.\"\n",
        "#     except FileNotFoundError:\n",
        "#         return \"File not found.\"\n",
        "#     except Exception as e:\n",
        "#         return f\"An error occurred: {e}\"\n",
        "\n",
        "# # Example usage\n",
        "# file_path = \"./hf_token.txt\"\n",
        "# line_number = int(input(\"Enter the line number you want to read: \"))\n",
        "# specific_line = read_specific_line(file_path, line_number)\n",
        "# print(f\"Line {line_number}: {specific_line}\")"
      ]
    },
    {
      "cell_type": "code",
      "execution_count": null,
      "metadata": {
        "id": "wZSx9TcHKB5f"
      },
      "outputs": [],
      "source": [
        "# login(token='specific_line')"
      ]
    },
    {
      "cell_type": "markdown",
      "metadata": {
        "id": "H4Ve1zD6JvN4"
      },
      "source": [
        "Model Download Civit Ai"
      ]
    },
    {
      "cell_type": "markdown",
      "metadata": {
        "id": "c6jj__iQAiny"
      },
      "source": [
        "Pruned MeinaMixV11"
      ]
    },
    {
      "cell_type": "code",
      "execution_count": null,
      "metadata": {
        "id": "f9UBSyzMLxtI"
      },
      "outputs": [],
      "source": [
        "# !wget --content-disposition -O model.safetensors  https://civitai.com/api/download/models/119057"
      ]
    },
    {
      "cell_type": "markdown",
      "metadata": {
        "id": "RnRamCUuAinz"
      },
      "source": [
        "Counterfeit V3 Huggingface"
      ]
    },
    {
      "cell_type": "code",
      "execution_count": 16,
      "metadata": {
        "id": "p4cKN1-oAinz"
      },
      "outputs": [],
      "source": [
        "checkpoint_repo = \"faizalnf1800/Counterfeit-V3-Pruned-SD1.5\""
      ]
    },
    {
      "cell_type": "markdown",
      "metadata": {
        "id": "SErMqa6kMwW6"
      },
      "source": [
        "Lora Download HuggingFace"
      ]
    },
    {
      "cell_type": "code",
      "execution_count": 5,
      "metadata": {
        "id": "nOKN37XOM00q"
      },
      "outputs": [],
      "source": [
        "lora_repo = \"finnstrom3693/moe-female-anime-lora\""
      ]
    },
    {
      "cell_type": "markdown",
      "metadata": {
        "id": "EHwMNsDmAin1"
      },
      "source": [
        "Lora Download From Other Source as File"
      ]
    },
    {
      "cell_type": "code",
      "source": [
        "# lora_path = \"/content\""
      ],
      "metadata": {
        "id": "rjrnRZm9BBWd"
      },
      "execution_count": null,
      "outputs": []
    },
    {
      "cell_type": "markdown",
      "metadata": {
        "id": "H-KvZt-pMnQ7"
      },
      "source": [
        "Load Model"
      ]
    },
    {
      "cell_type": "code",
      "execution_count": 6,
      "metadata": {
        "id": "6ZrY_0UwAin2"
      },
      "outputs": [],
      "source": [
        "model = \"/content/model.safetensors\""
      ]
    },
    {
      "cell_type": "code",
      "execution_count": 7,
      "metadata": {
        "id": "4o7-YlpzMph-"
      },
      "outputs": [],
      "source": [
        "precision = 'bf16' # @param [\"half\", \"full\" ,\"bf16\"]\n",
        "if precision == \"half\":\n",
        "    selected_precision = torch.float16\n",
        "elif precision == \"full\":\n",
        "    selected_precision = torch.float32\n",
        "elif precision == \"bf16\":\n",
        "    selected_precision = torch.bfloat16"
      ]
    },
    {
      "cell_type": "markdown",
      "metadata": {
        "id": "4ROygRtOAin3"
      },
      "source": [
        "Load Model From File"
      ]
    },
    {
      "cell_type": "code",
      "execution_count": null,
      "metadata": {
        "id": "5ldiFmCvOva-"
      },
      "outputs": [],
      "source": [
        "# pipe = StableDiffusionPipeline.from_single_file(model,\n",
        "#                                             torch_dtype=selected_precision,\n",
        "#                                             use_karras_sigmas=True,\n",
        "#                                             algorithm_type=\"sde-dpmsolver++\",\n",
        "#                                             use_safetensors=True)"
      ]
    },
    {
      "cell_type": "markdown",
      "metadata": {
        "id": "4DzBwax0Ain4"
      },
      "source": [
        "Load Model From Huggingface"
      ]
    },
    {
      "cell_type": "code",
      "execution_count": null,
      "metadata": {
        "id": "dz--mSagAin4"
      },
      "outputs": [],
      "source": [
        "pipe = StableDiffusionPipeline.from_pretrained(checkpoint_repo,\n",
        "                                            torch_dtype=selected_precision,\n",
        "                                            use_safetensors=True)"
      ]
    },
    {
      "cell_type": "code",
      "execution_count": 22,
      "metadata": {
        "id": "6Clco8esWpCl"
      },
      "outputs": [],
      "source": [
        "device = torch.device(\"cuda\") if torch.cuda.is_available() else torch.device(\"cpu\")"
      ]
    },
    {
      "cell_type": "code",
      "execution_count": 23,
      "metadata": {
        "id": "1UAEVl9SPXXb"
      },
      "outputs": [],
      "source": [
        "pipe.to(device)\n",
        "pipe.safety_checker = None\n",
        "pipe.requires_safety_checker = False\n",
        "DPMSolverMultistepScheduler\n",
        "pipe.scheduler = DPMSolverMultistepScheduler.from_config(\n",
        "    pipe.scheduler.config,\n",
        "    algorithm_type=\"sde-dpmsolver++\",\n",
        "    use_karras_sigmas=True\n",
        ")"
      ]
    },
    {
      "cell_type": "markdown",
      "metadata": {
        "id": "PjDGTXx7Pj-f"
      },
      "source": [
        "Load Lora Model"
      ]
    },
    {
      "cell_type": "code",
      "execution_count": 11,
      "metadata": {
        "id": "kiq4gZzJPcyW",
        "colab": {
          "base_uri": "https://localhost:8080/",
          "height": 49,
          "referenced_widgets": [
            "6f9e146a9fdd4868bd6b64c3e636b295",
            "4d7f8acb5b034d45ac3cdb7f128c0fb9",
            "5f3233507c8f42bba5bec4bf78597110",
            "55dd103044e94b45a86187a7ed55598e",
            "b75b7c2f258a4c6fb2ec78a5c7b7d710",
            "e216a01f9f8a469d8b0a991049569d2c",
            "05accc9685b24c1780d233fe67c75250",
            "4719b2e579b64d0e906b9ab3f20ccaec",
            "6a30fb95640f49ab84f7ae487cbabd68",
            "8e1a371f8c8c48089e8dfcd31b63f69b",
            "220bef049a67432a8f85aa567933b765"
          ]
        },
        "outputId": "75bf3e0d-93ce-4ffe-aa22-878b56837e86"
      },
      "outputs": [
        {
          "output_type": "display_data",
          "data": {
            "text/plain": [
              "pytorch_lora_weights.safetensors:   0%|          | 0.00/3.23M [00:00<?, ?B/s]"
            ],
            "application/vnd.jupyter.widget-view+json": {
              "version_major": 2,
              "version_minor": 0,
              "model_id": "6f9e146a9fdd4868bd6b64c3e636b295"
            }
          },
          "metadata": {}
        }
      ],
      "source": [
        "pipe.load_lora_weights(lora_repo,weight_name=\"pytorch_lora_weights.safetensors\")"
      ]
    },
    {
      "cell_type": "code",
      "execution_count": null,
      "metadata": {
        "id": "T9Dbgtd5Ain6"
      },
      "outputs": [],
      "source": [
        "#pipe.load_lora_weights(lora_path,weight_name=\"pytorch_lora_weights.safetensors\")"
      ]
    },
    {
      "cell_type": "code",
      "execution_count": 12,
      "metadata": {
        "id": "EsCu4YPEPoAY"
      },
      "outputs": [],
      "source": [
        "lora_scale=0.8\n",
        "pipe.fuse_lora(lora_scale=lora_scale)"
      ]
    },
    {
      "cell_type": "markdown",
      "source": [
        "Unload Lora Model"
      ],
      "metadata": {
        "id": "n8Nz_cBMTWV_"
      }
    },
    {
      "cell_type": "code",
      "source": [
        "pipe.unload_lora_weights()"
      ],
      "metadata": {
        "id": "Oj1wiiocTYl4"
      },
      "execution_count": null,
      "outputs": []
    },
    {
      "cell_type": "markdown",
      "source": [
        "Reset Lora Strength"
      ],
      "metadata": {
        "id": "fKKezBwoTcv6"
      }
    },
    {
      "cell_type": "code",
      "source": [
        "pipe.unfuse_lora()"
      ],
      "metadata": {
        "id": "yd6X-qMhTktX"
      },
      "execution_count": null,
      "outputs": []
    },
    {
      "cell_type": "markdown",
      "metadata": {
        "id": "8IL3tGzZP_jp"
      },
      "source": [
        "Inference Text to Image Test"
      ]
    },
    {
      "cell_type": "code",
      "execution_count": 24,
      "metadata": {
        "id": "R05DYvpIP4I4",
        "cellView": "form"
      },
      "outputs": [],
      "source": [
        "# @title Inference Settings\n",
        "\n",
        "prompt = \"1girl,close-up,beautiful,moe anime style,white shirt,earring,wavy hair,high quality,masterpiece\" # @param {type:\"string\"}\n",
        "negative_prompt = \"EasyNegative,lowres, text, error, cropped, worst quality, low quality, jpeg artifacts, ugly, duplicate, morbid, mutilated, out of frame, extra fingers, mutated hands, poorly drawn hands, poorly drawn face, mutation, deformed, blurry, dehydrated, bad anatomy, bad proportions, extra limbs, cloned face, disfigured, gross proportions, malformed limbs, missing arms, missing legs, extra arms, extra legs, fused fingers, too many fingers, long neck, username, watermark, signature\" # @param {type:\"string\"}\n",
        "orientation = 'square' # @param [\"portrait\", \"square\", \"landscape\"]\n",
        "# Set width and height based on orientation\n",
        "if orientation == 'portrait':\n",
        "    width = 512 # Example width for portrait\n",
        "    height = 768 # Example height for portrait\n",
        "elif orientation == 'square':\n",
        "    width = 512 # Example width for square\n",
        "    height = 512 # Example height for square\n",
        "elif orientation == 'landscape':\n",
        "    width = 768 # Example width for landscape\n",
        "    height = 512 # Example height for landscape\n",
        "size=str(width)+\"x\"+str(height)\n",
        "cfg_scale = 7 # @param {type:\"integer\"}\n",
        "steps = 30 # @param {type:\"integer\"}\n",
        "sampler = \"DPM++ SDE Karras\" # @param {type:\"string\"}\n",
        "modelname = \"CounterfeitV3\" # @param {type:\"string\"}\n",
        "loraname = \"MoeFemaleAnime\" # @param {type:\"string\"}"
      ]
    },
    {
      "cell_type": "markdown",
      "metadata": {
        "id": "4reAYABHSKxh"
      },
      "source": [
        "Random"
      ]
    },
    {
      "cell_type": "code",
      "execution_count": null,
      "metadata": {
        "id": "1i5qyzN1SJHC"
      },
      "outputs": [],
      "source": [
        "# import random\n",
        "\n",
        "# manual_seed = random.randint(1,999999)\n",
        "# print(manual_seed)\n",
        "# generator = torch.Generator(device=\"cuda\").manual_seed(manual_seed)\n",
        "# images = pipe(\n",
        "#             prompt = prompt,\n",
        "#             negative_prompt = negative_prompt,\n",
        "#             width = width,\n",
        "#             height = height,\n",
        "#             guidance_scale = cfg_scale,\n",
        "#             num_inference_steps = steps,\n",
        "#             num_images_per_prompt = 4,\n",
        "#             generator = generator\n",
        "#         ).images"
      ]
    },
    {
      "cell_type": "markdown",
      "metadata": {
        "id": "YLkmVhR-SMMu"
      },
      "source": [
        "Fixed"
      ]
    },
    {
      "cell_type": "code",
      "execution_count": 25,
      "metadata": {
        "colab": {
          "base_uri": "https://localhost:8080/",
          "height": 66,
          "referenced_widgets": [
            "9be063b5f7da4aafaa23c400e69dcced",
            "85ba862c2fbc47b8a740c7ca34eb31de",
            "ec708d1c95b34a3fa3a70a6720135b83",
            "15653d2584f44d2fbfab4912c1cb84d7",
            "03fdbff86c044494968c19cfa6f23526",
            "556ce6015c2e46b2aba5e29b95270e60",
            "c8c32c4a9b7245d3977f59ef16025638",
            "3be387709ce44ceebc4aa48672bd958d",
            "2b1f1a4c323e4264a33ce54355a8d9b2",
            "fbb704e84a8c4d64ac00d81399848d3f",
            "a67c232bc3e74c9fa6702c5b0692f932"
          ]
        },
        "id": "y-12Di8lSNZb",
        "outputId": "9ade97c7-4744-47ef-9426-b14ddd4c5a15"
      },
      "outputs": [
        {
          "output_type": "stream",
          "name": "stdout",
          "text": [
            "seed : 1800\n"
          ]
        },
        {
          "output_type": "display_data",
          "data": {
            "text/plain": [
              "  0%|          | 0/30 [00:00<?, ?it/s]"
            ],
            "application/vnd.jupyter.widget-view+json": {
              "version_major": 2,
              "version_minor": 0,
              "model_id": "9be063b5f7da4aafaa23c400e69dcced"
            }
          },
          "metadata": {}
        }
      ],
      "source": [
        "import random\n",
        "\n",
        "manual_seed = 1800\n",
        "print(\"seed :\",manual_seed)\n",
        "generator = torch.Generator(device=\"cuda\").manual_seed(manual_seed)\n",
        "images = pipe(\n",
        "            prompt = prompt,\n",
        "            negative_prompt = negative_prompt,\n",
        "            width = width,\n",
        "            height = height,\n",
        "            guidance_scale = cfg_scale,\n",
        "            num_inference_steps = steps,\n",
        "            num_images_per_prompt = 4,\n",
        "            generator = generator\n",
        "        ).images"
      ]
    },
    {
      "cell_type": "markdown",
      "metadata": {
        "id": "rFbSkystShN4"
      },
      "source": [
        "Show Image"
      ]
    },
    {
      "cell_type": "code",
      "execution_count": null,
      "metadata": {
        "id": "LqYDW_0HSgR2"
      },
      "outputs": [],
      "source": [
        "def plot_images(images):\n",
        "    N = len(images)\n",
        "    n_cols = 2\n",
        "    n_rows = int(np.ceil(N / n_cols))\n",
        "\n",
        "    plt.figure(figsize = (20, 5 * n_rows))\n",
        "    for i in range(len(images)):\n",
        "        plt.subplot(n_rows, n_cols, i + 1)\n",
        "        plt.title(i)\n",
        "        plt.imshow(np.array(images[i]))\n",
        "        plt.axis(False)\n",
        "    plt.show()\n",
        "plot_images(images)"
      ]
    },
    {
      "cell_type": "markdown",
      "metadata": {
        "id": "eGyKatjISwu6"
      },
      "source": [
        "Save and Write Metadata"
      ]
    },
    {
      "cell_type": "code",
      "execution_count": 17,
      "metadata": {
        "id": "gSkPfxbGAin-"
      },
      "outputs": [],
      "source": [
        "use_lora = \"True\" # @param [\"True\",\"False\"]"
      ]
    },
    {
      "cell_type": "code",
      "source": [
        "import pyexiv2\n",
        "import json\n",
        "import os\n",
        "\n",
        "def get_unique_filename(base_name, ext):\n",
        "    \"\"\"Generate a unique filename by appending a numeric suffix if necessary.\"\"\"\n",
        "    counter = 1\n",
        "    unique_name = f\"{base_name}{ext}\"\n",
        "    while os.path.exists(unique_name):\n",
        "        unique_name = f\"{base_name}_{counter}{ext}\"\n",
        "        counter += 1\n",
        "    return unique_name\n",
        "\n",
        "for i in range(len(images)):\n",
        "    # Save image with unique filename\n",
        "    base_filename = f\"image{i}\"\n",
        "    ext = \".png\"\n",
        "    unique_filename = get_unique_filename(base_filename, ext)\n",
        "    images[i].save(unique_filename)\n",
        "\n",
        "    metadata_diffusers = {\n",
        "        \"prompt\": prompt,\n",
        "        \"negativePrompt\": negative_prompt,\n",
        "        \"steps\": steps,\n",
        "        \"samplerName\": sampler,\n",
        "        \"cfgScale\": cfg_scale,\n",
        "        \"loraScale\": lora_scale,\n",
        "        \"seed\": manual_seed,\n",
        "        \"clipskip\": 1,\n",
        "        \"baseModel\": \"SD 1.5\",\n",
        "        \"checkpointModel\": modelname,\n",
        "        \"loraModel\": loraname,\n",
        "        \"seed\": manual_seed\n",
        "    }\n",
        "\n",
        "    if use_lora:\n",
        "        metadata_diffusers.update({\n",
        "            \"loraScale\": lora_scale,\n",
        "            \"loraModel\": loraname\n",
        "        })\n",
        "\n",
        "    new_metadata = {\n",
        "        \"Exif.Photo.UserComment\": metadata_diffusers\n",
        "    }\n",
        "\n",
        "    img = pyexiv2.Image(unique_filename)\n",
        "    img.modify_exif(new_metadata)\n",
        "\n",
        "# Save metadata to a text file with a unique name\n",
        "metadata_filename_base = \"metadata\"\n",
        "metadata_filename_ext = \".txt\"\n",
        "unique_metadata_filename = get_unique_filename(metadata_filename_base, metadata_filename_ext)\n",
        "with open(unique_metadata_filename, 'w') as f:\n",
        "    f.write(json.dumps(metadata_diffusers, indent=4))"
      ],
      "metadata": {
        "id": "aEUGd7B8SXDR"
      },
      "execution_count": 27,
      "outputs": []
    },
    {
      "cell_type": "markdown",
      "source": [
        "Clean GPU"
      ],
      "metadata": {
        "id": "D3Cf9_kGNsCp"
      }
    },
    {
      "cell_type": "code",
      "source": [
        "import torch\n",
        "import gc\n",
        "\n",
        "# Delete any references to tensors stored in GPU\n",
        "del pipe\n",
        "# Add any other variables you have here\n",
        "\n",
        "# Collect garbage to free up memory\n",
        "gc.collect()\n",
        "\n",
        "# Empty the CUDA cache\n",
        "torch.cuda.empty_cache()"
      ],
      "metadata": {
        "id": "tvSboC9vN0fX"
      },
      "execution_count": 28,
      "outputs": []
    },
    {
      "cell_type": "markdown",
      "source": [
        "Zip Generated File"
      ],
      "metadata": {
        "id": "dkWQvFI8Q9z1"
      }
    },
    {
      "cell_type": "code",
      "source": [
        "import os\n",
        "import zipfile\n",
        "\n",
        "def zip_txt_and_png(directory, zip_name):\n",
        "    # Create a ZipFile object\n",
        "    with zipfile.ZipFile(zip_name, 'w') as zipf:\n",
        "        # Walk through the directory\n",
        "        for root, dirs, files in os.walk(directory):\n",
        "            for file in files:\n",
        "                # Check if the file is a .txt or .png\n",
        "                if file.endswith('.txt') or file.endswith('.png'):\n",
        "                    # Create the full filepath by joining the root and file name\n",
        "                    file_path = os.path.join(root, file)\n",
        "                    # Add the file to the zip file\n",
        "                    zipf.write(file_path, os.path.relpath(file_path, directory))\n",
        "\n",
        "# Usage example\n",
        "directory_to_zip = os.getcwd()\n",
        "output_zip_file = 'research_test_image.zip'\n",
        "zip_txt_and_png(directory_to_zip, output_zip_file)"
      ],
      "metadata": {
        "id": "nyAb9YUiRCji"
      },
      "execution_count": 29,
      "outputs": []
    },
    {
      "cell_type": "markdown",
      "metadata": {
        "id": "nuCQLfvgS-C0"
      },
      "source": [
        "Check Metadata"
      ]
    },
    {
      "cell_type": "code",
      "execution_count": null,
      "metadata": {
        "id": "4EPONtX_TKPu"
      },
      "outputs": [],
      "source": [
        "# img = pyexiv2.Image(r'image0.png')\n",
        "# data = img.read_exif()\n",
        "# print(data)"
      ]
    }
  ],
  "metadata": {
    "accelerator": "GPU",
    "colab": {
      "gpuType": "T4",
      "provenance": []
    },
    "kernelspec": {
      "display_name": "Python 3",
      "name": "python3"
    },
    "language_info": {
      "name": "python"
    },
    "widgets": {
      "application/vnd.jupyter.widget-state+json": {
        "6f9e146a9fdd4868bd6b64c3e636b295": {
          "model_module": "@jupyter-widgets/controls",
          "model_name": "HBoxModel",
          "model_module_version": "1.5.0",
          "state": {
            "_dom_classes": [],
            "_model_module": "@jupyter-widgets/controls",
            "_model_module_version": "1.5.0",
            "_model_name": "HBoxModel",
            "_view_count": null,
            "_view_module": "@jupyter-widgets/controls",
            "_view_module_version": "1.5.0",
            "_view_name": "HBoxView",
            "box_style": "",
            "children": [
              "IPY_MODEL_4d7f8acb5b034d45ac3cdb7f128c0fb9",
              "IPY_MODEL_5f3233507c8f42bba5bec4bf78597110",
              "IPY_MODEL_55dd103044e94b45a86187a7ed55598e"
            ],
            "layout": "IPY_MODEL_b75b7c2f258a4c6fb2ec78a5c7b7d710"
          }
        },
        "4d7f8acb5b034d45ac3cdb7f128c0fb9": {
          "model_module": "@jupyter-widgets/controls",
          "model_name": "HTMLModel",
          "model_module_version": "1.5.0",
          "state": {
            "_dom_classes": [],
            "_model_module": "@jupyter-widgets/controls",
            "_model_module_version": "1.5.0",
            "_model_name": "HTMLModel",
            "_view_count": null,
            "_view_module": "@jupyter-widgets/controls",
            "_view_module_version": "1.5.0",
            "_view_name": "HTMLView",
            "description": "",
            "description_tooltip": null,
            "layout": "IPY_MODEL_e216a01f9f8a469d8b0a991049569d2c",
            "placeholder": "​",
            "style": "IPY_MODEL_05accc9685b24c1780d233fe67c75250",
            "value": "pytorch_lora_weights.safetensors: 100%"
          }
        },
        "5f3233507c8f42bba5bec4bf78597110": {
          "model_module": "@jupyter-widgets/controls",
          "model_name": "FloatProgressModel",
          "model_module_version": "1.5.0",
          "state": {
            "_dom_classes": [],
            "_model_module": "@jupyter-widgets/controls",
            "_model_module_version": "1.5.0",
            "_model_name": "FloatProgressModel",
            "_view_count": null,
            "_view_module": "@jupyter-widgets/controls",
            "_view_module_version": "1.5.0",
            "_view_name": "ProgressView",
            "bar_style": "success",
            "description": "",
            "description_tooltip": null,
            "layout": "IPY_MODEL_4719b2e579b64d0e906b9ab3f20ccaec",
            "max": 3226184,
            "min": 0,
            "orientation": "horizontal",
            "style": "IPY_MODEL_6a30fb95640f49ab84f7ae487cbabd68",
            "value": 3226184
          }
        },
        "55dd103044e94b45a86187a7ed55598e": {
          "model_module": "@jupyter-widgets/controls",
          "model_name": "HTMLModel",
          "model_module_version": "1.5.0",
          "state": {
            "_dom_classes": [],
            "_model_module": "@jupyter-widgets/controls",
            "_model_module_version": "1.5.0",
            "_model_name": "HTMLModel",
            "_view_count": null,
            "_view_module": "@jupyter-widgets/controls",
            "_view_module_version": "1.5.0",
            "_view_name": "HTMLView",
            "description": "",
            "description_tooltip": null,
            "layout": "IPY_MODEL_8e1a371f8c8c48089e8dfcd31b63f69b",
            "placeholder": "​",
            "style": "IPY_MODEL_220bef049a67432a8f85aa567933b765",
            "value": " 3.23M/3.23M [00:00&lt;00:00, 17.2MB/s]"
          }
        },
        "b75b7c2f258a4c6fb2ec78a5c7b7d710": {
          "model_module": "@jupyter-widgets/base",
          "model_name": "LayoutModel",
          "model_module_version": "1.2.0",
          "state": {
            "_model_module": "@jupyter-widgets/base",
            "_model_module_version": "1.2.0",
            "_model_name": "LayoutModel",
            "_view_count": null,
            "_view_module": "@jupyter-widgets/base",
            "_view_module_version": "1.2.0",
            "_view_name": "LayoutView",
            "align_content": null,
            "align_items": null,
            "align_self": null,
            "border": null,
            "bottom": null,
            "display": null,
            "flex": null,
            "flex_flow": null,
            "grid_area": null,
            "grid_auto_columns": null,
            "grid_auto_flow": null,
            "grid_auto_rows": null,
            "grid_column": null,
            "grid_gap": null,
            "grid_row": null,
            "grid_template_areas": null,
            "grid_template_columns": null,
            "grid_template_rows": null,
            "height": null,
            "justify_content": null,
            "justify_items": null,
            "left": null,
            "margin": null,
            "max_height": null,
            "max_width": null,
            "min_height": null,
            "min_width": null,
            "object_fit": null,
            "object_position": null,
            "order": null,
            "overflow": null,
            "overflow_x": null,
            "overflow_y": null,
            "padding": null,
            "right": null,
            "top": null,
            "visibility": null,
            "width": null
          }
        },
        "e216a01f9f8a469d8b0a991049569d2c": {
          "model_module": "@jupyter-widgets/base",
          "model_name": "LayoutModel",
          "model_module_version": "1.2.0",
          "state": {
            "_model_module": "@jupyter-widgets/base",
            "_model_module_version": "1.2.0",
            "_model_name": "LayoutModel",
            "_view_count": null,
            "_view_module": "@jupyter-widgets/base",
            "_view_module_version": "1.2.0",
            "_view_name": "LayoutView",
            "align_content": null,
            "align_items": null,
            "align_self": null,
            "border": null,
            "bottom": null,
            "display": null,
            "flex": null,
            "flex_flow": null,
            "grid_area": null,
            "grid_auto_columns": null,
            "grid_auto_flow": null,
            "grid_auto_rows": null,
            "grid_column": null,
            "grid_gap": null,
            "grid_row": null,
            "grid_template_areas": null,
            "grid_template_columns": null,
            "grid_template_rows": null,
            "height": null,
            "justify_content": null,
            "justify_items": null,
            "left": null,
            "margin": null,
            "max_height": null,
            "max_width": null,
            "min_height": null,
            "min_width": null,
            "object_fit": null,
            "object_position": null,
            "order": null,
            "overflow": null,
            "overflow_x": null,
            "overflow_y": null,
            "padding": null,
            "right": null,
            "top": null,
            "visibility": null,
            "width": null
          }
        },
        "05accc9685b24c1780d233fe67c75250": {
          "model_module": "@jupyter-widgets/controls",
          "model_name": "DescriptionStyleModel",
          "model_module_version": "1.5.0",
          "state": {
            "_model_module": "@jupyter-widgets/controls",
            "_model_module_version": "1.5.0",
            "_model_name": "DescriptionStyleModel",
            "_view_count": null,
            "_view_module": "@jupyter-widgets/base",
            "_view_module_version": "1.2.0",
            "_view_name": "StyleView",
            "description_width": ""
          }
        },
        "4719b2e579b64d0e906b9ab3f20ccaec": {
          "model_module": "@jupyter-widgets/base",
          "model_name": "LayoutModel",
          "model_module_version": "1.2.0",
          "state": {
            "_model_module": "@jupyter-widgets/base",
            "_model_module_version": "1.2.0",
            "_model_name": "LayoutModel",
            "_view_count": null,
            "_view_module": "@jupyter-widgets/base",
            "_view_module_version": "1.2.0",
            "_view_name": "LayoutView",
            "align_content": null,
            "align_items": null,
            "align_self": null,
            "border": null,
            "bottom": null,
            "display": null,
            "flex": null,
            "flex_flow": null,
            "grid_area": null,
            "grid_auto_columns": null,
            "grid_auto_flow": null,
            "grid_auto_rows": null,
            "grid_column": null,
            "grid_gap": null,
            "grid_row": null,
            "grid_template_areas": null,
            "grid_template_columns": null,
            "grid_template_rows": null,
            "height": null,
            "justify_content": null,
            "justify_items": null,
            "left": null,
            "margin": null,
            "max_height": null,
            "max_width": null,
            "min_height": null,
            "min_width": null,
            "object_fit": null,
            "object_position": null,
            "order": null,
            "overflow": null,
            "overflow_x": null,
            "overflow_y": null,
            "padding": null,
            "right": null,
            "top": null,
            "visibility": null,
            "width": null
          }
        },
        "6a30fb95640f49ab84f7ae487cbabd68": {
          "model_module": "@jupyter-widgets/controls",
          "model_name": "ProgressStyleModel",
          "model_module_version": "1.5.0",
          "state": {
            "_model_module": "@jupyter-widgets/controls",
            "_model_module_version": "1.5.0",
            "_model_name": "ProgressStyleModel",
            "_view_count": null,
            "_view_module": "@jupyter-widgets/base",
            "_view_module_version": "1.2.0",
            "_view_name": "StyleView",
            "bar_color": null,
            "description_width": ""
          }
        },
        "8e1a371f8c8c48089e8dfcd31b63f69b": {
          "model_module": "@jupyter-widgets/base",
          "model_name": "LayoutModel",
          "model_module_version": "1.2.0",
          "state": {
            "_model_module": "@jupyter-widgets/base",
            "_model_module_version": "1.2.0",
            "_model_name": "LayoutModel",
            "_view_count": null,
            "_view_module": "@jupyter-widgets/base",
            "_view_module_version": "1.2.0",
            "_view_name": "LayoutView",
            "align_content": null,
            "align_items": null,
            "align_self": null,
            "border": null,
            "bottom": null,
            "display": null,
            "flex": null,
            "flex_flow": null,
            "grid_area": null,
            "grid_auto_columns": null,
            "grid_auto_flow": null,
            "grid_auto_rows": null,
            "grid_column": null,
            "grid_gap": null,
            "grid_row": null,
            "grid_template_areas": null,
            "grid_template_columns": null,
            "grid_template_rows": null,
            "height": null,
            "justify_content": null,
            "justify_items": null,
            "left": null,
            "margin": null,
            "max_height": null,
            "max_width": null,
            "min_height": null,
            "min_width": null,
            "object_fit": null,
            "object_position": null,
            "order": null,
            "overflow": null,
            "overflow_x": null,
            "overflow_y": null,
            "padding": null,
            "right": null,
            "top": null,
            "visibility": null,
            "width": null
          }
        },
        "220bef049a67432a8f85aa567933b765": {
          "model_module": "@jupyter-widgets/controls",
          "model_name": "DescriptionStyleModel",
          "model_module_version": "1.5.0",
          "state": {
            "_model_module": "@jupyter-widgets/controls",
            "_model_module_version": "1.5.0",
            "_model_name": "DescriptionStyleModel",
            "_view_count": null,
            "_view_module": "@jupyter-widgets/base",
            "_view_module_version": "1.2.0",
            "_view_name": "StyleView",
            "description_width": ""
          }
        },
        "9be063b5f7da4aafaa23c400e69dcced": {
          "model_module": "@jupyter-widgets/controls",
          "model_name": "HBoxModel",
          "model_module_version": "1.5.0",
          "state": {
            "_dom_classes": [],
            "_model_module": "@jupyter-widgets/controls",
            "_model_module_version": "1.5.0",
            "_model_name": "HBoxModel",
            "_view_count": null,
            "_view_module": "@jupyter-widgets/controls",
            "_view_module_version": "1.5.0",
            "_view_name": "HBoxView",
            "box_style": "",
            "children": [
              "IPY_MODEL_85ba862c2fbc47b8a740c7ca34eb31de",
              "IPY_MODEL_ec708d1c95b34a3fa3a70a6720135b83",
              "IPY_MODEL_15653d2584f44d2fbfab4912c1cb84d7"
            ],
            "layout": "IPY_MODEL_03fdbff86c044494968c19cfa6f23526"
          }
        },
        "85ba862c2fbc47b8a740c7ca34eb31de": {
          "model_module": "@jupyter-widgets/controls",
          "model_name": "HTMLModel",
          "model_module_version": "1.5.0",
          "state": {
            "_dom_classes": [],
            "_model_module": "@jupyter-widgets/controls",
            "_model_module_version": "1.5.0",
            "_model_name": "HTMLModel",
            "_view_count": null,
            "_view_module": "@jupyter-widgets/controls",
            "_view_module_version": "1.5.0",
            "_view_name": "HTMLView",
            "description": "",
            "description_tooltip": null,
            "layout": "IPY_MODEL_556ce6015c2e46b2aba5e29b95270e60",
            "placeholder": "​",
            "style": "IPY_MODEL_c8c32c4a9b7245d3977f59ef16025638",
            "value": "100%"
          }
        },
        "ec708d1c95b34a3fa3a70a6720135b83": {
          "model_module": "@jupyter-widgets/controls",
          "model_name": "FloatProgressModel",
          "model_module_version": "1.5.0",
          "state": {
            "_dom_classes": [],
            "_model_module": "@jupyter-widgets/controls",
            "_model_module_version": "1.5.0",
            "_model_name": "FloatProgressModel",
            "_view_count": null,
            "_view_module": "@jupyter-widgets/controls",
            "_view_module_version": "1.5.0",
            "_view_name": "ProgressView",
            "bar_style": "success",
            "description": "",
            "description_tooltip": null,
            "layout": "IPY_MODEL_3be387709ce44ceebc4aa48672bd958d",
            "max": 30,
            "min": 0,
            "orientation": "horizontal",
            "style": "IPY_MODEL_2b1f1a4c323e4264a33ce54355a8d9b2",
            "value": 30
          }
        },
        "15653d2584f44d2fbfab4912c1cb84d7": {
          "model_module": "@jupyter-widgets/controls",
          "model_name": "HTMLModel",
          "model_module_version": "1.5.0",
          "state": {
            "_dom_classes": [],
            "_model_module": "@jupyter-widgets/controls",
            "_model_module_version": "1.5.0",
            "_model_name": "HTMLModel",
            "_view_count": null,
            "_view_module": "@jupyter-widgets/controls",
            "_view_module_version": "1.5.0",
            "_view_name": "HTMLView",
            "description": "",
            "description_tooltip": null,
            "layout": "IPY_MODEL_fbb704e84a8c4d64ac00d81399848d3f",
            "placeholder": "​",
            "style": "IPY_MODEL_a67c232bc3e74c9fa6702c5b0692f932",
            "value": " 30/30 [01:40&lt;00:00,  3.38s/it]"
          }
        },
        "03fdbff86c044494968c19cfa6f23526": {
          "model_module": "@jupyter-widgets/base",
          "model_name": "LayoutModel",
          "model_module_version": "1.2.0",
          "state": {
            "_model_module": "@jupyter-widgets/base",
            "_model_module_version": "1.2.0",
            "_model_name": "LayoutModel",
            "_view_count": null,
            "_view_module": "@jupyter-widgets/base",
            "_view_module_version": "1.2.0",
            "_view_name": "LayoutView",
            "align_content": null,
            "align_items": null,
            "align_self": null,
            "border": null,
            "bottom": null,
            "display": null,
            "flex": null,
            "flex_flow": null,
            "grid_area": null,
            "grid_auto_columns": null,
            "grid_auto_flow": null,
            "grid_auto_rows": null,
            "grid_column": null,
            "grid_gap": null,
            "grid_row": null,
            "grid_template_areas": null,
            "grid_template_columns": null,
            "grid_template_rows": null,
            "height": null,
            "justify_content": null,
            "justify_items": null,
            "left": null,
            "margin": null,
            "max_height": null,
            "max_width": null,
            "min_height": null,
            "min_width": null,
            "object_fit": null,
            "object_position": null,
            "order": null,
            "overflow": null,
            "overflow_x": null,
            "overflow_y": null,
            "padding": null,
            "right": null,
            "top": null,
            "visibility": null,
            "width": null
          }
        },
        "556ce6015c2e46b2aba5e29b95270e60": {
          "model_module": "@jupyter-widgets/base",
          "model_name": "LayoutModel",
          "model_module_version": "1.2.0",
          "state": {
            "_model_module": "@jupyter-widgets/base",
            "_model_module_version": "1.2.0",
            "_model_name": "LayoutModel",
            "_view_count": null,
            "_view_module": "@jupyter-widgets/base",
            "_view_module_version": "1.2.0",
            "_view_name": "LayoutView",
            "align_content": null,
            "align_items": null,
            "align_self": null,
            "border": null,
            "bottom": null,
            "display": null,
            "flex": null,
            "flex_flow": null,
            "grid_area": null,
            "grid_auto_columns": null,
            "grid_auto_flow": null,
            "grid_auto_rows": null,
            "grid_column": null,
            "grid_gap": null,
            "grid_row": null,
            "grid_template_areas": null,
            "grid_template_columns": null,
            "grid_template_rows": null,
            "height": null,
            "justify_content": null,
            "justify_items": null,
            "left": null,
            "margin": null,
            "max_height": null,
            "max_width": null,
            "min_height": null,
            "min_width": null,
            "object_fit": null,
            "object_position": null,
            "order": null,
            "overflow": null,
            "overflow_x": null,
            "overflow_y": null,
            "padding": null,
            "right": null,
            "top": null,
            "visibility": null,
            "width": null
          }
        },
        "c8c32c4a9b7245d3977f59ef16025638": {
          "model_module": "@jupyter-widgets/controls",
          "model_name": "DescriptionStyleModel",
          "model_module_version": "1.5.0",
          "state": {
            "_model_module": "@jupyter-widgets/controls",
            "_model_module_version": "1.5.0",
            "_model_name": "DescriptionStyleModel",
            "_view_count": null,
            "_view_module": "@jupyter-widgets/base",
            "_view_module_version": "1.2.0",
            "_view_name": "StyleView",
            "description_width": ""
          }
        },
        "3be387709ce44ceebc4aa48672bd958d": {
          "model_module": "@jupyter-widgets/base",
          "model_name": "LayoutModel",
          "model_module_version": "1.2.0",
          "state": {
            "_model_module": "@jupyter-widgets/base",
            "_model_module_version": "1.2.0",
            "_model_name": "LayoutModel",
            "_view_count": null,
            "_view_module": "@jupyter-widgets/base",
            "_view_module_version": "1.2.0",
            "_view_name": "LayoutView",
            "align_content": null,
            "align_items": null,
            "align_self": null,
            "border": null,
            "bottom": null,
            "display": null,
            "flex": null,
            "flex_flow": null,
            "grid_area": null,
            "grid_auto_columns": null,
            "grid_auto_flow": null,
            "grid_auto_rows": null,
            "grid_column": null,
            "grid_gap": null,
            "grid_row": null,
            "grid_template_areas": null,
            "grid_template_columns": null,
            "grid_template_rows": null,
            "height": null,
            "justify_content": null,
            "justify_items": null,
            "left": null,
            "margin": null,
            "max_height": null,
            "max_width": null,
            "min_height": null,
            "min_width": null,
            "object_fit": null,
            "object_position": null,
            "order": null,
            "overflow": null,
            "overflow_x": null,
            "overflow_y": null,
            "padding": null,
            "right": null,
            "top": null,
            "visibility": null,
            "width": null
          }
        },
        "2b1f1a4c323e4264a33ce54355a8d9b2": {
          "model_module": "@jupyter-widgets/controls",
          "model_name": "ProgressStyleModel",
          "model_module_version": "1.5.0",
          "state": {
            "_model_module": "@jupyter-widgets/controls",
            "_model_module_version": "1.5.0",
            "_model_name": "ProgressStyleModel",
            "_view_count": null,
            "_view_module": "@jupyter-widgets/base",
            "_view_module_version": "1.2.0",
            "_view_name": "StyleView",
            "bar_color": null,
            "description_width": ""
          }
        },
        "fbb704e84a8c4d64ac00d81399848d3f": {
          "model_module": "@jupyter-widgets/base",
          "model_name": "LayoutModel",
          "model_module_version": "1.2.0",
          "state": {
            "_model_module": "@jupyter-widgets/base",
            "_model_module_version": "1.2.0",
            "_model_name": "LayoutModel",
            "_view_count": null,
            "_view_module": "@jupyter-widgets/base",
            "_view_module_version": "1.2.0",
            "_view_name": "LayoutView",
            "align_content": null,
            "align_items": null,
            "align_self": null,
            "border": null,
            "bottom": null,
            "display": null,
            "flex": null,
            "flex_flow": null,
            "grid_area": null,
            "grid_auto_columns": null,
            "grid_auto_flow": null,
            "grid_auto_rows": null,
            "grid_column": null,
            "grid_gap": null,
            "grid_row": null,
            "grid_template_areas": null,
            "grid_template_columns": null,
            "grid_template_rows": null,
            "height": null,
            "justify_content": null,
            "justify_items": null,
            "left": null,
            "margin": null,
            "max_height": null,
            "max_width": null,
            "min_height": null,
            "min_width": null,
            "object_fit": null,
            "object_position": null,
            "order": null,
            "overflow": null,
            "overflow_x": null,
            "overflow_y": null,
            "padding": null,
            "right": null,
            "top": null,
            "visibility": null,
            "width": null
          }
        },
        "a67c232bc3e74c9fa6702c5b0692f932": {
          "model_module": "@jupyter-widgets/controls",
          "model_name": "DescriptionStyleModel",
          "model_module_version": "1.5.0",
          "state": {
            "_model_module": "@jupyter-widgets/controls",
            "_model_module_version": "1.5.0",
            "_model_name": "DescriptionStyleModel",
            "_view_count": null,
            "_view_module": "@jupyter-widgets/base",
            "_view_module_version": "1.2.0",
            "_view_name": "StyleView",
            "description_width": ""
          }
        }
      }
    }
  },
  "nbformat": 4,
  "nbformat_minor": 0
}