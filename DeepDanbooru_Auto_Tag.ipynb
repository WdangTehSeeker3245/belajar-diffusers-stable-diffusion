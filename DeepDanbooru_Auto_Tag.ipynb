{
  "nbformat": 4,
  "nbformat_minor": 0,
  "metadata": {
    "colab": {
      "provenance": []
    },
    "kernelspec": {
      "name": "python3",
      "display_name": "Python 3"
    },
    "language_info": {
      "name": "python"
    }
  },
  "cells": [
    {
      "cell_type": "code",
      "execution_count": null,
      "metadata": {
        "id": "EmFXAB-UQ4zo"
      },
      "outputs": [],
      "source": [
        "!git clone https://github.com/KichangKim/DeepDanbooru.git"
      ]
    },
    {
      "cell_type": "code",
      "source": [
        "%cd DeepDanbooru"
      ],
      "metadata": {
        "id": "i-1Fh5vXRCIH"
      },
      "execution_count": null,
      "outputs": []
    },
    {
      "cell_type": "code",
      "source": [
        "!pip install -r requirements.txt"
      ],
      "metadata": {
        "id": "NswIbmgERKPA"
      },
      "execution_count": null,
      "outputs": []
    },
    {
      "cell_type": "code",
      "source": [
        "!pip install .[tensorflow]"
      ],
      "metadata": {
        "id": "YJgUP5SKRQ_O"
      },
      "execution_count": null,
      "outputs": []
    },
    {
      "cell_type": "code",
      "source": [
        "!deepdanbooru create-project white-shirt-and-lightblue-necktie"
      ],
      "metadata": {
        "id": "lGqfLrsZRpS-"
      },
      "execution_count": null,
      "outputs": []
    },
    {
      "cell_type": "code",
      "source": [
        "!rm -r white-shirt-and-lightblue-necktie"
      ],
      "metadata": {
        "id": "7UOzsDT7Sl6_"
      },
      "execution_count": 8,
      "outputs": []
    },
    {
      "cell_type": "code",
      "source": [
        "!mkdir ./white-shirt-and-lightblue-necktie/dataset"
      ],
      "metadata": {
        "id": "p9Enq352S1de"
      },
      "execution_count": 11,
      "outputs": []
    },
    {
      "cell_type": "code",
      "source": [
        "!wget https://github.com/KichangKim/DeepDanbooru/releases/download/v3-20200101-sgd-e30/deepdanbooru-v3-20200101-sgd-e30.zip"
      ],
      "metadata": {
        "id": "r5fcBYeITYXg"
      },
      "execution_count": null,
      "outputs": []
    },
    {
      "cell_type": "code",
      "source": [
        "!unzip /content/DeepDanbooru/white-shirt-and-lightblue-necktie/deepdanbooru-v3-20200101-sgd-e30.zip -d /content/DeepDanbooru/white-shirt-and-lightblue-necktie"
      ],
      "metadata": {
        "id": "6iVPAioXT5Jq"
      },
      "execution_count": null,
      "outputs": []
    },
    {
      "cell_type": "code",
      "source": [
        "!deepdanbooru evaluate /content/DeepDanbooru/white-shirt-and-lightblue-necktie/dataset --project-path /content/DeepDanbooru/white-shirt-and-lightblue-necktie --allow-folder --save-txt"
      ],
      "metadata": {
        "id": "l5pKs5xbSVUS"
      },
      "execution_count": null,
      "outputs": []
    },
    {
      "cell_type": "markdown",
      "source": [
        "Add Trigger Word Command"
      ],
      "metadata": {
        "id": "FqUM5ovMaVCP"
      }
    },
    {
      "cell_type": "code",
      "source": [
        "import os\n",
        "\n",
        "def append_to_files(directory, prefix):\n",
        "    for filename in os.listdir(directory):\n",
        "        if filename.endswith(\".txt\"):\n",
        "            file_path = os.path.join(directory, filename)\n",
        "            with open(file_path, 'r+') as file:\n",
        "                content = file.read()\n",
        "                file.seek(0, 0)\n",
        "                file.write(prefix + content)\n",
        "\n",
        "# Example usage\n",
        "directory_path = \"/content/DeepDanbooru/white-shirt-and-lightblue-necktie/dataset\"\n",
        "text_to_append = \"WISILBLUEN, white shirt and lightblue necktie,\"\n",
        "\n",
        "append_to_files(directory_path, text_to_append)"
      ],
      "metadata": {
        "id": "nPASEm_FZu7J"
      },
      "execution_count": 35,
      "outputs": []
    },
    {
      "cell_type": "markdown",
      "source": [
        "Delete Text File Command"
      ],
      "metadata": {
        "id": "WZ494l5gaN_k"
      }
    },
    {
      "cell_type": "code",
      "source": [
        "import os\n",
        "\n",
        "def delete_txt_files(directory):\n",
        "    for filename in os.listdir(directory):\n",
        "        if filename.endswith(\".txt\"):\n",
        "            file_path = os.path.join(directory, filename)\n",
        "            os.remove(file_path)\n",
        "\n",
        "# Example usage\n",
        "directory_path = \"/content/DeepDanbooru/white-shirt-and-lightblue-necktie/dataset\"\n",
        "\n",
        "delete_txt_files(directory_path)"
      ],
      "metadata": {
        "id": "9UTJBPf1Z-Ln"
      },
      "execution_count": 33,
      "outputs": []
    },
    {
      "cell_type": "markdown",
      "source": [
        "Zip File"
      ],
      "metadata": {
        "id": "TNLrHNhvbq9K"
      }
    },
    {
      "cell_type": "code",
      "source": [
        "import os\n",
        "import zipfile\n",
        "from tqdm import tqdm\n",
        "\n",
        "def zip_directory(directory_path, zip_file_name):\n",
        "    with zipfile.ZipFile(zip_file_name, 'w') as zip_file:\n",
        "        file_paths = []\n",
        "        for root, dirs, files in os.walk(directory_path):\n",
        "            file_paths.extend([os.path.join(root, file) for file in files])\n",
        "\n",
        "        for file_path in tqdm(file_paths, desc=\"Zipping\", unit=\"file\"):\n",
        "            zip_file.write(file_path, os.path.relpath(file_path, directory_path))\n",
        "\n",
        "# Example usage\n",
        "directory_path = \"/content/DeepDanbooru/white-shirt-and-lightblue-necktie/dataset\"\n",
        "zip_file_name = \"white_shirt_and_lightblue_necktie.zip\"\n",
        "\n",
        "zip_directory(directory_path, zip_file_name)"
      ],
      "metadata": {
        "colab": {
          "base_uri": "https://localhost:8080/"
        },
        "id": "oJ1uw4SCbUs0",
        "outputId": "7617e093-4a27-4281-8f1f-9b7aaa5e237b"
      },
      "execution_count": 36,
      "outputs": [
        {
          "output_type": "stream",
          "name": "stderr",
          "text": [
            "Zipping: 100%|██████████| 106/106 [00:00<00:00, 6395.78file/s]\n"
          ]
        }
      ]
    }
  ]
}